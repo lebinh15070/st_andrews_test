{
 "cells": [
  {
   "cell_type": "markdown",
   "metadata": {},
   "source": [
    "## Import neccessary libraries"
   ]
  },
  {
   "cell_type": "code",
   "execution_count": 1,
   "metadata": {},
   "outputs": [],
   "source": [
    "import pandas as pd\n",
    "import numpy as np\n",
    "import time\n",
    "import gc\n",
    "import psutil\n",
    "import os\n",
    "import matplotlib.pyplot as plt\n",
    "\n",
    "# All function in this jupyter lab file is defined in the library/python file below\n",
    "import CS5901_import"
   ]
  },
  {
   "cell_type": "markdown",
   "metadata": {},
   "source": [
    "## Stage 0. Code respiratory"
   ]
  },
  {
   "cell_type": "markdown",
   "metadata": {},
   "source": [
    "### For this stage, I'm going to include the respiratory link on git, and all commands used to push all local coding files to git"
   ]
  },
  {
   "cell_type": "markdown",
   "metadata": {},
   "source": [
    "1. Github respiratory link"
   ]
  },
  {
   "cell_type": "code",
   "execution_count": null,
   "metadata": {},
   "outputs": [],
   "source": []
  },
  {
   "cell_type": "markdown",
   "metadata": {},
   "source": [
    "2. All commands used to push local folder to git"
   ]
  },
  {
   "cell_type": "code",
   "execution_count": null,
   "metadata": {},
   "outputs": [],
   "source": []
  },
  {
   "cell_type": "markdown",
   "metadata": {},
   "source": [
    "## Stage 1. Code respiratory"
   ]
  },
  {
   "cell_type": "markdown",
   "metadata": {},
   "source": [
    "### 0. Import the data as a pandas dataframe"
   ]
  },
  {
   "cell_type": "code",
   "execution_count": 8,
   "metadata": {},
   "outputs": [
    {
     "data": {
      "text/html": [
       "<div>\n",
       "<style scoped>\n",
       "    .dataframe tbody tr th:only-of-type {\n",
       "        vertical-align: middle;\n",
       "    }\n",
       "\n",
       "    .dataframe tbody tr th {\n",
       "        vertical-align: top;\n",
       "    }\n",
       "\n",
       "    .dataframe thead th {\n",
       "        text-align: right;\n",
       "    }\n",
       "</style>\n",
       "<table border=\"1\" class=\"dataframe\">\n",
       "  <thead>\n",
       "    <tr style=\"text-align: right;\">\n",
       "      <th></th>\n",
       "      <th>Level</th>\n",
       "      <th>T4</th>\n",
       "      <th>T3</th>\n",
       "      <th>T3adjusted</th>\n",
       "      <th>T4adjusted</th>\n",
       "    </tr>\n",
       "  </thead>\n",
       "  <tbody>\n",
       "    <tr>\n",
       "      <th>0</th>\n",
       "      <td>5</td>\n",
       "      <td>8.7</td>\n",
       "      <td>NaN</td>\n",
       "      <td>2.056710</td>\n",
       "      <td>NaN</td>\n",
       "    </tr>\n",
       "    <tr>\n",
       "      <th>1</th>\n",
       "      <td>20</td>\n",
       "      <td>7.9</td>\n",
       "      <td>4.6</td>\n",
       "      <td>1.991632</td>\n",
       "      <td>1.663103</td>\n",
       "    </tr>\n",
       "    <tr>\n",
       "      <th>2</th>\n",
       "      <td>30</td>\n",
       "      <td>2.3</td>\n",
       "      <td>0.4</td>\n",
       "      <td>1.320006</td>\n",
       "      <td>0.736806</td>\n",
       "    </tr>\n",
       "    <tr>\n",
       "      <th>3</th>\n",
       "      <td>20</td>\n",
       "      <td>5.4</td>\n",
       "      <td>2.6</td>\n",
       "      <td>1.754411</td>\n",
       "      <td>1.375069</td>\n",
       "    </tr>\n",
       "    <tr>\n",
       "      <th>4</th>\n",
       "      <td>5</td>\n",
       "      <td>1.8</td>\n",
       "      <td>NaN</td>\n",
       "      <td>1.216440</td>\n",
       "      <td>NaN</td>\n",
       "    </tr>\n",
       "  </tbody>\n",
       "</table>\n",
       "</div>"
      ],
      "text/plain": [
       "   Level   T4   T3  T3adjusted  T4adjusted\n",
       "0      5  8.7  NaN    2.056710         NaN\n",
       "1     20  7.9  4.6    1.991632    1.663103\n",
       "2     30  2.3  0.4    1.320006    0.736806\n",
       "3     20  5.4  2.6    1.754411    1.375069\n",
       "4      5  1.8  NaN    1.216440         NaN"
      ]
     },
     "execution_count": 8,
     "metadata": {},
     "output_type": "execute_result"
    }
   ],
   "source": [
    "# Locate the file path\n",
    "file_path = 'P2data9603.csv'\n",
    "\n",
    "# Read the CSV file, tab is delimeter\n",
    "df = pd.read_csv(file_path,  delimiter='\\t')\n",
    "\n",
    "# Display 1st 5 rows\n",
    "df.head(5)"
   ]
  },
  {
   "cell_type": "markdown",
   "metadata": {},
   "source": [
    "### 1. Identify and remove any data rows that make no sense"
   ]
  },
  {
   "cell_type": "markdown",
   "metadata": {},
   "source": [
    "After doing my research with a bit of imagination, I speculate that the dataset arised from a clinical study, in which:\n",
    "- Level Column => represents different levels in which the hormone level clinical test was conducted\n",
    "- T3 Column => Can be a specific factor of measurement, I assume it is the Triiodothyronine (T3) levels.\n",
    "- T3 Column => Also specific factor of measurement, which I assues is Thyroxine (T4) levels\n",
    "\n",
    "Thus, I conclude that there are two possible scenarios in which the rows exhibit illogical data:"
   ]
  },
  {
   "cell_type": "markdown",
   "metadata": {},
   "source": [
    "**1st Possibility:** Both `T3` and `T4` are NA, basically means the test does not have any value, so we will remove those\n"
   ]
  },
  {
   "cell_type": "code",
   "execution_count": 9,
   "metadata": {},
   "outputs": [],
   "source": [
    "remove_condition_1 = df['T3'].isna() & df['T4'].isna()"
   ]
  },
  {
   "cell_type": "markdown",
   "metadata": {},
   "source": [
    "**2nd Possibility:**  \n",
    "I assume that there exists outliers in column `T3` and `T4`.    \n",
    "These outliers must be excluded since in step 2 we are calculating average value.   \n",
    "First of all, to inspect the outliers in column `T3` and `T4`, we will use matplotlib lib to create a distribution graph for both column"
   ]
  },
  {
   "cell_type": "code",
   "execution_count": 10,
   "metadata": {},
   "outputs": [
    {
     "name": "stdout",
     "output_type": "stream",
     "text": [
      "Help on function plot_distribution in module CS5901_import:\n",
      "\n",
      "plot_distribution(df, column)\n",
      "    Plot the distribution of a specified column in a DataFrame, take input a dataframe and one column\n",
      "\n"
     ]
    }
   ],
   "source": [
    "help(CS5901_import.plot_distribution)"
   ]
  },
  {
   "cell_type": "code",
   "execution_count": 11,
   "metadata": {},
   "outputs": [
    {
     "data": {
      "image/png": "[encoded data removed]",
      "text/plain": [
       "<Figure size 1000x200 with 1 Axes>"
      ]
     },
     "metadata": {},
     "output_type": "display_data"
    }
   ],
   "source": [
    "CS5901_import.plot_distribution(df, 'T3')"
   ]
  },
  {
   "cell_type": "code",
   "execution_count": 12,
   "metadata": {},
   "outputs": [
    {
     "data": {
      "image/png": "[encoded data removed]",
      "text/plain": [
       "<Figure size 1000x200 with 1 Axes>"
      ]
     },
     "metadata": {},
     "output_type": "display_data"
    }
   ],
   "source": [
    "CS5901_import.plot_distribution(df, 'T4')"
   ]
  },
  {
   "cell_type": "markdown",
   "metadata": {},
   "source": [
    "The graph shows that there are very few values in both columns that fall below -25 or exceed 100, so we will remove those rows."
   ]
  },
  {
   "cell_type": "code",
   "execution_count": 13,
   "metadata": {},
   "outputs": [
    {
     "name": "stdout",
     "output_type": "stream",
     "text": [
      "Original df length: 482\n",
      "Filtered df length: 473\n",
      "Total number of rows lost: 9\n"
     ]
    }
   ],
   "source": [
    "remove_condition_2 = (df['T3'] <= -25) | (df['T3'] >= 100) \n",
    "remove_condition_3 = (df['T4'] <= -25) | (df['T4'] >= 100)\n",
    "\n",
    "# All remove condition combined\n",
    "remove_condition = (\n",
    "    remove_condition_1 |\n",
    "    remove_condition_2 |\n",
    "    remove_condition_3\n",
    ")\n",
    "\n",
    "# Remove all rows that match combine condition\n",
    "df_filtered = df[~remove_condition]\n",
    "\n",
    "# Print original and filtered DataFrame lengths and number of rows lost\n",
    "original_length = len(df)\n",
    "filtered_length = len(df_filtered)\n",
    "rows_lost = original_length - filtered_length\n",
    "\n",
    "print('Original df length:', original_length)\n",
    "print('Filtered df length:', filtered_length)\n",
    "print('Total number of rows lost:', rows_lost)\n"
   ]
  },
  {
   "cell_type": "markdown",
   "metadata": {},
   "source": [
    "### 2. Replace any missing values in `T3` and `T4` with average values **for their specific level**"
   ]
  },
  {
   "cell_type": "markdown",
   "metadata": {},
   "source": [
    "First of all, we write a function to calculate the average value of both column `T3` and `T4` for all of its level, then stored the result inside a dict with the keys being the level"
   ]
  },
  {
   "cell_type": "code",
   "execution_count": 14,
   "metadata": {},
   "outputs": [
    {
     "name": "stdout",
     "output_type": "stream",
     "text": [
      "Help on function average_by_level in module CS5901_import:\n",
      "\n",
      "average_by_level(df, level_col, value_col)\n",
      "    Calculate average value by level of a T column of dataframe and return the result as dict\n",
      "    Take 3 input: dataframe, level column, value column of T\n",
      "\n"
     ]
    }
   ],
   "source": [
    "help(CS5901_import.average_by_level)"
   ]
  },
  {
   "cell_type": "code",
   "execution_count": 15,
   "metadata": {},
   "outputs": [
    {
     "name": "stdout",
     "output_type": "stream",
     "text": [
      "result_dict_t3:  {5: 4.046789088941176, 10: 7.888769370518988, 15: 13.12573882932258, 20: 16.98489312623387, 25: 26.633333333333336, 30: 10.536367385954545, 40: 19.28690435711628, 50: 4.4221725162, 60: 29.2, 100: 22.185714285714283, 150: 13.4, 200: 15.785714285714283, 300: 8.025, 400: 5.622222222222223}\n",
      "result_dict_t4:  {5: 7.245631097280701, 10: 12.637046965698925, 15: 17.73585067425581, 20: 15.903931173888113, 25: 27.11111111, 30: 21.572104588625, 40: 19.42351100066, 50: 4.8899489577, 60: 17.2, 100: 21.157142857142855, 150: 15.080000000000002, 200: 11.644444444444446, 300: 4.175000000000001, 400: 3.888888888888889}\n"
     ]
    }
   ],
   "source": [
    "result_dict_t3 = CS5901_import.average_by_level(df_filtered, 'Level', 'T3')\n",
    "result_dict_t4 = CS5901_import.average_by_level(df_filtered, 'Level', 'T4')\n",
    "print('result_dict_t3: ', result_dict_t3)  # Output: {1: 3.5, 2: 4.0}\n",
    "print('result_dict_t4: ', result_dict_t4)  # Output: {1: 3.5, 2: 4.0}"
   ]
  },
  {
   "cell_type": "markdown",
   "metadata": {},
   "source": [
    "Then, we use the apply method applicable to dataframe to fill the NA value of T3 and T4 with the result obtained from the dict"
   ]
  },
  {
   "cell_type": "code",
   "execution_count": 18,
   "metadata": {},
   "outputs": [
    {
     "name": "stdout",
     "output_type": "stream",
     "text": [
      "Help on function fill_value in module CS5901_import:\n",
      "\n",
      "fill_value(row, value_col, result_dict)\n",
      "    Fill NaN values in a T column with corresponding average values from a dictionary \n",
      "    Only if T column is null, otherwise returns original value\n",
      "\n"
     ]
    }
   ],
   "source": [
    "help(CS5901_import.fill_value)"
   ]
  },
  {
   "cell_type": "code",
   "execution_count": 19,
   "metadata": {},
   "outputs": [],
   "source": [
    "df_filtered1 = df_filtered.copy()\n",
    "df_filtered1.loc[:, 'T3'] = df_filtered1.apply(CS5901_import.fill_value, axis=1, args=('T3', result_dict_t3))\n",
    "df_filtered1.loc[:, 'T4'] = df_filtered1.apply(CS5901_import.fill_value, axis=1, args=('T4', result_dict_t4))"
   ]
  },
  {
   "cell_type": "markdown",
   "metadata": {},
   "source": [
    "Just to be sure, I ran a few lines of code to compare the DataFrame before and after filling the NA values in column T4."
   ]
  },
  {
   "cell_type": "code",
   "execution_count": 20,
   "metadata": {},
   "outputs": [
    {
     "name": "stdout",
     "output_type": "stream",
     "text": [
      "12.637046965698925 15.903931173888113\n"
     ]
    }
   ],
   "source": [
    "print(result_dict_t4[10], result_dict_t4[20])  #=> This is average T4 value for level 10 + 20"
   ]
  },
  {
   "cell_type": "code",
   "execution_count": 21,
   "metadata": {},
   "outputs": [
    {
     "data": {
      "text/html": [
       "<div>\n",
       "<style scoped>\n",
       "    .dataframe tbody tr th:only-of-type {\n",
       "        vertical-align: middle;\n",
       "    }\n",
       "\n",
       "    .dataframe tbody tr th {\n",
       "        vertical-align: top;\n",
       "    }\n",
       "\n",
       "    .dataframe thead th {\n",
       "        text-align: right;\n",
       "    }\n",
       "</style>\n",
       "<table border=\"1\" class=\"dataframe\">\n",
       "  <thead>\n",
       "    <tr style=\"text-align: right;\">\n",
       "      <th></th>\n",
       "      <th>Level</th>\n",
       "      <th>T4</th>\n",
       "      <th>T3</th>\n",
       "      <th>T3adjusted</th>\n",
       "      <th>T4adjusted</th>\n",
       "    </tr>\n",
       "  </thead>\n",
       "  <tbody>\n",
       "    <tr>\n",
       "      <th>296</th>\n",
       "      <td>10</td>\n",
       "      <td>NaN</td>\n",
       "      <td>31.3600</td>\n",
       "      <td>0.0</td>\n",
       "      <td>3.153494</td>\n",
       "    </tr>\n",
       "    <tr>\n",
       "      <th>386</th>\n",
       "      <td>20</td>\n",
       "      <td>NaN</td>\n",
       "      <td>20.7375</td>\n",
       "      <td>0.0</td>\n",
       "      <td>2.747380</td>\n",
       "    </tr>\n",
       "  </tbody>\n",
       "</table>\n",
       "</div>"
      ],
      "text/plain": [
       "     Level  T4       T3  T3adjusted  T4adjusted\n",
       "296     10 NaN  31.3600         0.0    3.153494\n",
       "386     20 NaN  20.7375         0.0    2.747380"
      ]
     },
     "execution_count": 21,
     "metadata": {},
     "output_type": "execute_result"
    }
   ],
   "source": [
    "df_filtered[df_filtered['T4'].isna()].tail(2) # => This is before filling T4 with NA value"
   ]
  },
  {
   "cell_type": "code",
   "execution_count": 22,
   "metadata": {},
   "outputs": [
    {
     "data": {
      "text/html": [
       "<div>\n",
       "<style scoped>\n",
       "    .dataframe tbody tr th:only-of-type {\n",
       "        vertical-align: middle;\n",
       "    }\n",
       "\n",
       "    .dataframe tbody tr th {\n",
       "        vertical-align: top;\n",
       "    }\n",
       "\n",
       "    .dataframe thead th {\n",
       "        text-align: right;\n",
       "    }\n",
       "</style>\n",
       "<table border=\"1\" class=\"dataframe\">\n",
       "  <thead>\n",
       "    <tr style=\"text-align: right;\">\n",
       "      <th></th>\n",
       "      <th>Level</th>\n",
       "      <th>T4</th>\n",
       "      <th>T3</th>\n",
       "      <th>T3adjusted</th>\n",
       "      <th>T4adjusted</th>\n",
       "    </tr>\n",
       "  </thead>\n",
       "  <tbody>\n",
       "    <tr>\n",
       "      <th>296</th>\n",
       "      <td>10</td>\n",
       "      <td>12.6</td>\n",
       "      <td>31.4</td>\n",
       "      <td>0.0</td>\n",
       "      <td>3.153494</td>\n",
       "    </tr>\n",
       "    <tr>\n",
       "      <th>386</th>\n",
       "      <td>20</td>\n",
       "      <td>15.9</td>\n",
       "      <td>20.7</td>\n",
       "      <td>0.0</td>\n",
       "      <td>2.747380</td>\n",
       "    </tr>\n",
       "  </tbody>\n",
       "</table>\n",
       "</div>"
      ],
      "text/plain": [
       "     Level    T4    T3  T3adjusted  T4adjusted\n",
       "296     10  12.6  31.4         0.0    3.153494\n",
       "386     20  15.9  20.7         0.0    2.747380"
      ]
     },
     "execution_count": 22,
     "metadata": {},
     "output_type": "execute_result"
    }
   ],
   "source": [
    "df_filtered1[df_filtered['T4'].isna()].tail(2) # => This is after filling T4 with NA value"
   ]
  },
  {
   "cell_type": "markdown",
   "metadata": {},
   "source": [
    "### 3. Write code - without using *pandas.describe()* - that presents a table of descriptive statistics for each column, then compare you results to those obtained using *pandas.describe()*"
   ]
  },
  {
   "cell_type": "markdown",
   "metadata": {},
   "source": [
    "Writing the `custom_describe` function as replace ment for the pandas describe method"
   ]
  },
  {
   "cell_type": "code",
   "execution_count": 23,
   "metadata": {},
   "outputs": [
    {
     "name": "stdout",
     "output_type": "stream",
     "text": [
      "Help on function custom_describe in module CS5901_import:\n",
      "\n",
      "custom_describe(df)\n",
      "    Calculate descriptive statistics for each column in the DataFrame.\n",
      "    Receive the whole dataframe as input\n",
      "    How it works: \n",
      "    1. Each keys in the dict contained a measure of every columns in dataframe, in a form a pandas series\n",
      "    2. The dict is converted back into a dataframe, and transposed for the dimension to match the original describe method\n",
      "\n"
     ]
    }
   ],
   "source": [
    "help(CS5901_import.custom_describe)"
   ]
  },
  {
   "cell_type": "code",
   "execution_count": 25,
   "metadata": {},
   "outputs": [
    {
     "name": "stdout",
     "output_type": "stream",
     "text": [
      "Custom Descriptive Statistics (Transposed):\n",
      "            Level          T4          T3  T3adjusted  T4adjusted\n",
      "count  482.000000  472.000000  382.000000  476.000000  381.000000\n",
      "mean    34.885892   15.227682   13.087924    2.031534    1.902634\n",
      "std     64.299661   19.201461   16.470182    1.257578    1.224463\n",
      "min      5.000000  -44.400000  -38.400000   -3.541014   -3.373731\n",
      "25%     10.000000    4.663806    3.125000    1.645850    1.473613\n",
      "50%     20.000000   10.996296    7.950000    2.218938    2.000000\n",
      "75%     30.000000   19.800000   18.700000    2.701918    2.654283\n",
      "max    400.000000  235.200000  148.400000    6.172756    5.294334\n"
     ]
    }
   ],
   "source": [
    "custom_stats = CS5901_import.custom_describe(df)\n",
    "print(\"Custom Descriptive Statistics (Transposed):\")\n",
    "print(custom_stats)"
   ]
  },
  {
   "cell_type": "markdown",
   "metadata": {},
   "source": [
    "It's matching closely with the original describe method"
   ]
  },
  {
   "cell_type": "code",
   "execution_count": 26,
   "metadata": {},
   "outputs": [
    {
     "name": "stdout",
     "output_type": "stream",
     "text": [
      "The Describe method\n",
      "            Level          T4          T3  T3adjusted  T4adjusted\n",
      "count  482.000000  472.000000  382.000000  476.000000  381.000000\n",
      "mean    34.885892   15.227682   13.087924    2.031534    1.902634\n",
      "std     64.299661   19.201461   16.470182    1.257578    1.224463\n",
      "min      5.000000  -44.400000  -38.400000   -3.541014   -3.373731\n",
      "25%     10.000000    4.663806    3.125000    1.645850    1.473613\n",
      "50%     20.000000   10.996296    7.950000    2.218938    2.000000\n",
      "75%     30.000000   19.800000   18.700000    2.701918    2.654283\n",
      "max    400.000000  235.200000  148.400000    6.172756    5.294334\n"
     ]
    }
   ],
   "source": [
    "pandas_stats = df.describe()\n",
    "print(\"The Describe method\")\n",
    "print(pandas_stats)"
   ]
  },
  {
   "cell_type": "markdown",
   "metadata": {},
   "source": [
    "## 4. Write code that identifies any repeated rows or confirms that there are none"
   ]
  },
  {
   "cell_type": "markdown",
   "metadata": {},
   "source": [
    "In order to identify repeated rows, we simply make a new column which contains the concatenate value of all 5 columns"
   ]
  },
  {
   "cell_type": "code",
   "execution_count": 15,
   "metadata": {},
   "outputs": [
    {
     "data": {
      "text/html": [
       "<div>\n",
       "<style scoped>\n",
       "    .dataframe tbody tr th:only-of-type {\n",
       "        vertical-align: middle;\n",
       "    }\n",
       "\n",
       "    .dataframe tbody tr th {\n",
       "        vertical-align: top;\n",
       "    }\n",
       "\n",
       "    .dataframe thead th {\n",
       "        text-align: right;\n",
       "    }\n",
       "</style>\n",
       "<table border=\"1\" class=\"dataframe\">\n",
       "  <thead>\n",
       "    <tr style=\"text-align: right;\">\n",
       "      <th></th>\n",
       "      <th>Level</th>\n",
       "      <th>T4</th>\n",
       "      <th>T3</th>\n",
       "      <th>T3adjusted</th>\n",
       "      <th>T4adjusted</th>\n",
       "      <th>Dup check ID</th>\n",
       "    </tr>\n",
       "  </thead>\n",
       "  <tbody>\n",
       "    <tr>\n",
       "      <th>0</th>\n",
       "      <td>5</td>\n",
       "      <td>8.7</td>\n",
       "      <td>4.0</td>\n",
       "      <td>2.056710</td>\n",
       "      <td>NaN</td>\n",
       "      <td>58.74.02.056710116nan</td>\n",
       "    </tr>\n",
       "    <tr>\n",
       "      <th>1</th>\n",
       "      <td>20</td>\n",
       "      <td>7.9</td>\n",
       "      <td>4.6</td>\n",
       "      <td>1.991632</td>\n",
       "      <td>1.663103</td>\n",
       "      <td>207.94.61.9916317011.663103499</td>\n",
       "    </tr>\n",
       "  </tbody>\n",
       "</table>\n",
       "</div>"
      ],
      "text/plain": [
       "   Level   T4   T3  T3adjusted  T4adjusted                    Dup check ID\n",
       "0      5  8.7  4.0    2.056710         NaN           58.74.02.056710116nan\n",
       "1     20  7.9  4.6    1.991632    1.663103  207.94.61.9916317011.663103499"
      ]
     },
     "execution_count": 15,
     "metadata": {},
     "output_type": "execute_result"
    }
   ],
   "source": [
    "df_filtered1['Dup check ID'] = (\n",
    "    df_filtered1['Level'].astype(str).fillna('') + \n",
    "    df_filtered1['T4'].astype(str).fillna('') + \n",
    "    df_filtered1['T3'].astype(str).fillna('') + \n",
    "    df_filtered1['T3adjusted'].astype(str).fillna('') + \n",
    "    df_filtered1['T4adjusted'].astype(str).fillna('')\n",
    ")\n",
    "\n",
    "df_filtered1.head(2)"
   ]
  },
  {
   "cell_type": "markdown",
   "metadata": {},
   "source": [
    "Then, we count value of column Dup check partition by the column it self, and filter rows where that value >1 to identify al duplicated rows"
   ]
  },
  {
   "cell_type": "code",
   "execution_count": 16,
   "metadata": {},
   "outputs": [
    {
     "data": {
      "text/html": [
       "<div>\n",
       "<style scoped>\n",
       "    .dataframe tbody tr th:only-of-type {\n",
       "        vertical-align: middle;\n",
       "    }\n",
       "\n",
       "    .dataframe tbody tr th {\n",
       "        vertical-align: top;\n",
       "    }\n",
       "\n",
       "    .dataframe thead th {\n",
       "        text-align: right;\n",
       "    }\n",
       "</style>\n",
       "<table border=\"1\" class=\"dataframe\">\n",
       "  <thead>\n",
       "    <tr style=\"text-align: right;\">\n",
       "      <th></th>\n",
       "      <th>Level</th>\n",
       "      <th>T4</th>\n",
       "      <th>T3</th>\n",
       "      <th>T3adjusted</th>\n",
       "      <th>T4adjusted</th>\n",
       "      <th>Dup check ID</th>\n",
       "      <th>Dup check count</th>\n",
       "    </tr>\n",
       "  </thead>\n",
       "  <tbody>\n",
       "    <tr>\n",
       "      <th>473</th>\n",
       "      <td>100</td>\n",
       "      <td>18.7</td>\n",
       "      <td>9.1</td>\n",
       "      <td>2.654283</td>\n",
       "      <td>2.087759</td>\n",
       "      <td>10018.79.12.6542828572.087759479</td>\n",
       "      <td>2</td>\n",
       "    </tr>\n",
       "    <tr>\n",
       "      <th>132</th>\n",
       "      <td>100</td>\n",
       "      <td>18.7</td>\n",
       "      <td>9.1</td>\n",
       "      <td>2.654283</td>\n",
       "      <td>2.087759</td>\n",
       "      <td>10018.79.12.6542828572.087759479</td>\n",
       "      <td>2</td>\n",
       "    </tr>\n",
       "    <tr>\n",
       "      <th>108</th>\n",
       "      <td>100</td>\n",
       "      <td>19.1</td>\n",
       "      <td>17.8</td>\n",
       "      <td>2.673075</td>\n",
       "      <td>2.610999</td>\n",
       "      <td>10019.117.82.6730748662.610998771</td>\n",
       "      <td>2</td>\n",
       "    </tr>\n",
       "    <tr>\n",
       "      <th>472</th>\n",
       "      <td>100</td>\n",
       "      <td>19.1</td>\n",
       "      <td>17.8</td>\n",
       "      <td>2.673075</td>\n",
       "      <td>2.610999</td>\n",
       "      <td>10019.117.82.6730748662.610998771</td>\n",
       "      <td>2</td>\n",
       "    </tr>\n",
       "  </tbody>\n",
       "</table>\n",
       "</div>"
      ],
      "text/plain": [
       "     Level    T4    T3  T3adjusted  T4adjusted  \\\n",
       "473    100  18.7   9.1    2.654283    2.087759   \n",
       "132    100  18.7   9.1    2.654283    2.087759   \n",
       "108    100  19.1  17.8    2.673075    2.610999   \n",
       "472    100  19.1  17.8    2.673075    2.610999   \n",
       "\n",
       "                          Dup check ID  Dup check count  \n",
       "473   10018.79.12.6542828572.087759479                2  \n",
       "132   10018.79.12.6542828572.087759479                2  \n",
       "108  10019.117.82.6730748662.610998771                2  \n",
       "472  10019.117.82.6730748662.610998771                2  "
      ]
     },
     "execution_count": 16,
     "metadata": {},
     "output_type": "execute_result"
    }
   ],
   "source": [
    "df_filtered1['Dup check count'] = df_filtered1['Dup check ID'].map(df_filtered1['Dup check ID'].value_counts())\n",
    "df_filtered2 = df_filtered1[df_filtered1['Dup check count'] > 1].copy()\n",
    "df_filtered2 = df_filtered2.sort_values(by='Dup check ID')\n",
    "df_filtered2.head(4)"
   ]
  },
  {
   "cell_type": "markdown",
   "metadata": {},
   "source": [
    "## Stage 2. Code respiratory"
   ]
  },
  {
   "cell_type": "markdown",
   "metadata": {},
   "source": [
    "### 1. Let's take a look at the function and understand what it does"
   ]
  },
  {
   "cell_type": "markdown",
   "metadata": {},
   "source": [
    "The function myInv(size) explanation"
   ]
  },
  {
   "cell_type": "code",
   "execution_count": 17,
   "metadata": {},
   "outputs": [],
   "source": [
    "def myInv(size):\n",
    "\n",
    "    # 1. Generate a square matrix `intA` of random integers with values between -500 and 50000.\n",
    "    intA = np.random.randint(-500,50000, (size,size))\n",
    "\n",
    "    # 2. Generate a square matrix `intA` of random float with values between 0 and 1.\n",
    "    flA = np.random.rand(size,size)\n",
    "\n",
    "    # 3. Combine `intA` and `flA` to create the matrix `A`.\n",
    "    A = intA + flA\n",
    "\n",
    "    # 4. This generated vector is not used to do anything.\n",
    "    b = np.random.randint(-10,100,size)\n",
    "\n",
    "    # 5. Return the inverse of the matrix `A` using numpy's `np.linalg.inv()` function\n",
    "    return(np.linalg.inv(A))"
   ]
  },
  {
   "cell_type": "markdown",
   "metadata": {},
   "source": [
    "Detailed explanation to demonstrate understanding of the loop that calculates time and space."
   ]
  },
  {
   "cell_type": "code",
   "execution_count": 45,
   "metadata": {},
   "outputs": [
    {
     "name": "stdout",
     "output_type": "stream",
     "text": [
      "[ 0.04388332  0.23641682  0.6651814   1.4226656   2.23490286  3.69680047\n",
      "  5.57696509  7.98066759 10.66968226 14.41760921]\n",
      "[      0. 3149824. 4747264. 4747264. 4763648. 4767744. 4767744. 4771840.\n",
      " 4775936. 4780032.]\n"
     ]
    }
   ],
   "source": [
    "process = psutil.Process(os.getpid()) # `process` variable creates a process object for the current python process\n",
    "baseRam = process.memory_info().rss # `baseRam` records the initial memory usage, before running anything\n",
    "# => Both of these variables will be used to calculate resSpace (memory usage) in the next loop\n",
    "\n",
    "resTime = np.zeros(10) # Creates a NumPy array filled with 10 zero elements\n",
    "resSpace = np.zeros(10) # Same with above \n",
    "\n",
    "for i in range(1,11):\n",
    "    gc.collect() # gc.collect() must be triggered before loop iteration since it prevented memory buildup. Without it, resSpace may be inaccurate because unused memory from previous iterations might not be freed\n",
    "    \n",
    "    start = time.time() # Record the start time before running myInv function\n",
    "    \n",
    "    myInv(i*1000) # Running the myInv function, x1000 to the currect loop as the `intA` and `flA` matrix size\n",
    "    \n",
    "    end = time.time() # Record the start time of each loop\n",
    "    \n",
    "    ram = process.memory_info().rss # The variable ram records the memory usage of the current loop iteration \n",
    "    \n",
    "    resTime[i-1] = end - start # It calculates the process time for the current loop, result is stored into resTime array with corresponding index\n",
    "    resSpace[i-1] = ram - baseRam # It calculates the process memory for the current loop, result is stored into resSpace array with corresponding index\n",
    "    \n",
    "print(resTime)\n",
    "print(resSpace)"
   ]
  },
  {
   "cell_type": "markdown",
   "metadata": {},
   "source": [
    "### 2. Using adaptations of the code above and investigate the time and space needed for standard matrix multiplication (for time this should be $cn^3$ where $c$ is a non-negative constant)"
   ]
  },
  {
   "cell_type": "markdown",
   "metadata": {},
   "source": [
    "We define a function for matrix multiplication."
   ]
  },
  {
   "cell_type": "code",
   "execution_count": 27,
   "metadata": {},
   "outputs": [
    {
     "name": "stdout",
     "output_type": "stream",
     "text": [
      "Help on function matrix_mult in module CS5901_import:\n",
      "\n",
      "matrix_mult(size)\n",
      "    Standard cn^3 matrix multiplication with matrices A and B\n",
      "\n"
     ]
    }
   ],
   "source": [
    "help(CS5901_import.matrix_mult)"
   ]
  },
  {
   "cell_type": "markdown",
   "metadata": {},
   "source": [
    "Next, we are going to run a loop. With each iteration, we create a different random matrix with increasing dimension"
   ]
  },
  {
   "cell_type": "code",
   "execution_count": null,
   "metadata": {},
   "outputs": [
    {
     "name": "stdout",
     "output_type": "stream",
     "text": [
      "Selection Sort Times: [ 0.02293992  0.16555572  0.39893365  0.83040237  1.53576398  2.52212882\n",
      "  3.76822639  5.54505706  7.63972068 10.53532887]\n",
      "Selection Sort Space: [ 4800512. 14929920. 19345408. 20852736. 22425600. 25141248. 28286976.\n",
      " 31301632. 31301632. 31301632.]\n"
     ]
    }
   ],
   "source": [
    "process = psutil.Process(os.getpid()) \n",
    "baseRam = process.memory_info().rss \n",
    "\n",
    "resTime_sort = np.zeros(10)\n",
    "resSpace_sort = np.zeros(10)\n",
    "\n",
    "for i in range(1, 11):\n",
    "    gc.collect()\n",
    "    start = time.time()\n",
    "    CS5901_import.matrix_mult(i * 1000)\n",
    "    end = time.time()\n",
    "    ram = process.memory_info().rss    \n",
    "    resTime_sort[i-1] = end - start\n",
    "    resSpace_sort[i-1] = ram - baseRam\n",
    "    \n",
    "print(\"Selection Sort Times:\", resTime_sort)\n",
    "print(\"Selection Sort Space:\", resSpace_sort)"
   ]
  },
  {
   "cell_type": "markdown",
   "metadata": {},
   "source": [
    "### 3. sorting an unordered list of integers inefficiently by searching for the smallest element, then the next smallest,..."
   ]
  },
  {
   "cell_type": "markdown",
   "metadata": {},
   "source": [
    "We define a function to sort through the list"
   ]
  },
  {
   "cell_type": "code",
   "execution_count": 28,
   "metadata": {},
   "outputs": [
    {
     "name": "stdout",
     "output_type": "stream",
     "text": [
      "Help on function selection_sort in module CS5901_import:\n",
      "\n",
      "selection_sort(random_list)\n",
      "    Sorts through a list inefficiently by finding the smallest component in the list\n",
      "    and repositioned each component in the list\n",
      "    This will take a list as input and return the sorted list\n",
      "\n"
     ]
    },
    {
     "data": {
      "text/plain": [
       "[1, 3, 4, 5]"
      ]
     },
     "execution_count": 28,
     "metadata": {},
     "output_type": "execute_result"
    }
   ],
   "source": [
    "help(CS5901_import.selection_sort)\n",
    "\n",
    "CS5901_import.selection_sort([3,5,4,1])"
   ]
  },
  {
   "cell_type": "markdown",
   "metadata": {},
   "source": [
    "Next, we are going to run a loop. With each iteration, we create a different random list with increasing length (i*1000 length)"
   ]
  },
  {
   "cell_type": "code",
   "execution_count": null,
   "metadata": {},
   "outputs": [
    {
     "name": "stdout",
     "output_type": "stream",
     "text": [
      "Selection Sort Times: [0.01097012 0.04286098 0.09474468 0.16905308 0.26222658 0.38189054\n",
      " 0.52211356 0.70125675 0.88015127 1.07310414]\n",
      "Selection Sort Space: [     0.  12288.  20480.  20480.  57344.  81920.  81920.  81920.  81920.\n",
      " 159744.]\n"
     ]
    }
   ],
   "source": [
    "process = psutil.Process(os.getpid()) \n",
    "baseRam = process.memory_info().rss \n",
    "\n",
    "resTime_sort = np.zeros(10)\n",
    "resSpace_sort = np.zeros(10)\n",
    "\n",
    "for i in range(1, 11):\n",
    "    gc.collect()\n",
    "    random_list = np.random.randint(0, 1000, i * 1000).tolist()\n",
    "    start = time.time()\n",
    "    CS5901_import.selection_sort(random_list)\n",
    "    end = time.time()\n",
    "    ram = process.memory_info().rss    \n",
    "    resTime_sort[i-1] = end - start\n",
    "    resSpace_sort[i-1] = ram - baseRam\n",
    "    \n",
    "print(\"Selection Sort Times:\", resTime_sort)\n",
    "print(\"Selection Sort Space:\", resSpace_sort)"
   ]
  },
  {
   "cell_type": "markdown",
   "metadata": {},
   "source": [
    "### 4. A comparison of Python's *find()* method and your loop-based implementation of a method that checks if one string is a substring of another"
   ]
  },
  {
   "cell_type": "markdown",
   "metadata": {},
   "source": [
    "We define a function to iterate the main string, searching for the substring"
   ]
  },
  {
   "cell_type": "code",
   "execution_count": 29,
   "metadata": {},
   "outputs": [
    {
     "name": "stdout",
     "output_type": "stream",
     "text": [
      "Help on function is_substring in module CS5901_import:\n",
      "\n",
      "is_substring(substring, main_string)\n",
      "    Sorts through each slice in the main string looking for the substring\n",
      "    This function requires 2 inputs: substring and the mainstring\n",
      "    In case the substring match the mainstring, it returns TRUE\n",
      "\n",
      "True\n"
     ]
    }
   ],
   "source": [
    "help(CS5901_import.is_substring)\n",
    "\n",
    "\n",
    "main_string = \"hello world\"\n",
    "substring = \"world\"\n",
    "print(CS5901_import.is_substring(substring, main_string))  \n"
   ]
  },
  {
   "cell_type": "markdown",
   "metadata": {},
   "source": [
    "Next, we are going to run 2 loop. Each loop check for time and space of one of the two methods"
   ]
  },
  {
   "cell_type": "code",
   "execution_count": null,
   "metadata": {},
   "outputs": [
    {
     "name": "stdout",
     "output_type": "stream",
     "text": [
      "Find() Method Times: [7.59994145e-06 7.00005330e-06 1.08999666e-05 7.59994145e-06\n",
      " 1.42999925e-05 9.99995973e-06 1.00999605e-05 1.02000777e-05\n",
      " 1.06999651e-05 1.06999651e-05]\n",
      "Loop Method Times: [1.08999666e-05 1.00999605e-05 1.13000860e-05 6.19993079e-06\n",
      " 6.29993156e-06 1.07000815e-05 1.01999613e-05 1.05999643e-05\n",
      " 1.20999757e-05 9.80007462e-06]\n",
      "\n",
      "Find() Method Space: [0. 0. 0. 0. 0. 0. 0. 0. 0. 0.]\n",
      "Loop Method Space: [0. 0. 0. 0. 0. 0. 0. 0. 0. 0.]\n"
     ]
    }
   ],
   "source": [
    "process = psutil.Process(os.getpid()) \n",
    "baseRam = process.memory_info().rss \n",
    "\n",
    "main_string = \"a\" * 1000  # A long string of 'a' characters\n",
    "substring = \"a\" * 100  # A short pattern to search for\n",
    "\n",
    "resTime_find = np.zeros(10)\n",
    "resSpace_find = np.zeros(10)\n",
    "\n",
    "resSpace_loop = np.zeros(10)\n",
    "resTime_loop = np.zeros(10)\n",
    "\n",
    "for i in range(1, 11):\n",
    "    gc.collect()\n",
    "    start = time.perf_counter()\n",
    "    CS5901_import.is_substring(substring, main_string)\n",
    "    end = time.perf_counter()\n",
    "    ram = process.memory_info().rss    \n",
    "    resTime_find[i-1] = end - start\n",
    "    resSpace_find[i-1] = ram - baseRam\n",
    "\n",
    "for i in range(1, 11):\n",
    "    gc.collect()\n",
    "    start = time.perf_counter()\n",
    "    CS5901_import.is_substring(substring, main_string)\n",
    "    end = time.perf_counter()\n",
    "    ram = process.memory_info().rss    \n",
    "    resTime_loop[i-1] = end - start\n",
    "    resSpace_loop[i-1] = ram - baseRam\n",
    "\n",
    "print(\"Find() Method Times:\", resTime_find)\n",
    "print(\"Loop Method Times:\", resTime_loop)\n",
    "print(\"\")\n",
    "print(\"Find() Method Space:\", resSpace_find)\n",
    "print(\"Loop Method Space:\", resSpace_loop)"
   ]
  }
 ],
 "metadata": {
  "kernelspec": {
   "display_name": "base",
   "language": "python",
   "name": "python3"
  },
  "language_info": {
   "codemirror_mode": {
    "name": "ipython",
    "version": 3
   },
   "file_extension": ".py",
   "mimetype": "text/x-python",
   "name": "python",
   "nbconvert_exporter": "python",
   "pygments_lexer": "ipython3",
   "version": "3.11.5"
  }
 },
 "nbformat": 4,
 "nbformat_minor": 2
}
